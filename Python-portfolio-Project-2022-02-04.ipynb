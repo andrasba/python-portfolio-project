{
 "cells": [
  {
   "cell_type": "code",
   "execution_count": 62,
   "id": "14ca525a",
   "metadata": {},
   "outputs": [
    {
     "name": "stdout",
     "output_type": "stream",
     "text": [
      "['southwest', 'southeast', 'northwest', 'northeast']\n"
     ]
    }
   ],
   "source": [
    "# goals: average age, \n",
    "# average age /region, \n",
    "# smoker% /region, \n",
    "# smoker%/sex, \n",
    "# bmi-children (0, 1, 2, 3+) correlation (average bmi / children number) for all; for male; for female\n",
    "\n",
    "# age,sex,bmi,children,smoker,region,charges\n",
    "# 19,female,27.9,0,yes,southwest,16884.924\n",
    "# insurance_dict_list = {\"age\": 19, \"sex\": \"female\", \"bmi\": 27.9, \"children\": 0, \"smoker\": \"yes\", \"region\": \"southwest\", \"charges\": 16884.924}\n",
    "\n",
    "import csv\n",
    "\n",
    "# makes value list of the specified header (key), from the list of dictionary rows \n",
    "def listmake(work_dict, header_item): \n",
    "    d_list = []\n",
    "    for row in work_dict: \n",
    "        d_list.append(row[header_item])\n",
    "    return d_list\n",
    "\n",
    "# filtered list of key values - makes list of unique values\n",
    "# e.g.: filtered_list(insurance_dict_list, \"region\")\n",
    "def filtered_list(work_dict, key): \n",
    "    key_values_filtered = []\n",
    "    for drow in work_dict: \n",
    "        if drow[key] not in key_values_filtered: \n",
    "            key_values_filtered.append(drow[key])\n",
    "    return key_values_filtered\n",
    "            \n",
    "# makes a dict according to the given key\n",
    "# e.g.: dictmake(insurance_dict_list, \"region\")\n",
    "def dictmake(work_dict, dheader_item): \n",
    "    return_dict = {}\n",
    "    \n",
    "    # prepare keys - make list of unique values:\n",
    "    dheader_item_values_filtered = filtered_list(work_dict, dheader_item)\n",
    "    print(dheader_item_values_filtered)\n",
    "\n",
    "    # fill up return_dict with values:         \n",
    "    for item_value in dheader_item_values_filtered: \n",
    "        for row in work_dict: \n",
    "            if row[dheader_item] == item_value: \n",
    "                if item_value in return_dict: \n",
    "                    return_dict[item_value].append(row)\n",
    "                else: \n",
    "                    return_dict.update({item_value: [row]})\n",
    "    return return_dict    \n",
    "\n",
    "# e.g.: dictmake(insurance_dict_list, \"region\", [\"age\", \"sex\"])\n",
    "# makes a narrow dictionary for the given key (contains only the given parameters, passed in \"dheaders\" list)\n",
    "def dictmake_narrow(work_dict, dheader_item, dheaders): \n",
    "    return_dict = {}\n",
    "    return return_dict\n",
    "\n",
    "# calculates the average of \"per_key\" in the given dictionary / \n",
    "def dict_average_per_key(dict_per, per_key): \n",
    "    result_list = []\n",
    "    for main_key in dict_per.keys(): \n",
    "        total = 0.0 \n",
    "        num = 0\n",
    "        for row in dict_per[main_key]: \n",
    "            total += float(row[per_key])\n",
    "            num += 1 \n",
    "        average = total / num \n",
    "        result_list.append([main_key, average])\n",
    "    return result_list\n",
    "\n",
    "def dict_count_per_key(dict_per, per_key, per_key_value): \n",
    "    result_list = []\n",
    "    for main_key in dict_per.keys(): \n",
    "        num = 0\n",
    "        for row in dict_per[main_key]: \n",
    "            if row[per_key] == per_key_value: \n",
    "                num += 1 \n",
    "        result_list.append([main_key, num])\n",
    "    return result_list\n",
    "\n",
    "with open(\"insurance.csv\") as insurance_csv: \n",
    "    # csv columns -> lists \n",
    "    # variable scope? \n",
    "    insurance_dict_list = list(csv.DictReader(insurance_csv))\n",
    "    \n",
    "# ages_list = listmake(insurance_dict_list, \"age\") \n",
    "\n",
    "dict_per_region = dictmake(insurance_dict_list, \"region\")      \n",
    "dict_per_region_age_sex = dictmake_narrow(insurance_dict_list, \"region\", [\"age\", \"sex\"])    \n",
    "# print(per_region_age_sex)    \n"
   ]
  },
  {
   "cell_type": "code",
   "execution_count": 63,
   "id": "17ba79e2",
   "metadata": {},
   "outputs": [
    {
     "name": "stdout",
     "output_type": "stream",
     "text": [
      "['0', '1', '3', '2', '5', '4']\n",
      "[['0', 30.550296167247392], ['1', 30.623148148148143], ['3', 30.684331210191075], ['2', 30.97810416666667], ['5', 29.605000000000004], ['4', 31.391200000000005]]\n",
      "['female', 'male']\n",
      "[['female', 30.377749244713023], ['male', 30.943128698224832]]\n",
      "[['southwest', 30.59661538461538], ['southeast', 33.35598901098903], ['northwest', 29.199784615384626], ['northeast', 29.17350308641976]]\n",
      "[['southwest', 1.1415384615384616], ['southeast', 1.0494505494505495], ['northwest', 1.1476923076923078], ['northeast', 1.0462962962962963]]\n",
      "[['southwest', 39.45538461538462], ['southeast', 38.93956043956044], ['northwest', 39.19692307692308], ['northeast', 39.26851851851852]]\n",
      "[['southwest', 58], ['southeast', 91], ['northwest', 58], ['northeast', 67]]\n"
     ]
    }
   ],
   "source": [
    "dict_per_children = dictmake(insurance_dict_list, \"children\")\n",
    "# print(dict_per_children)\n",
    "print(dict_average_per_key(dict_per_children, \"bmi\"))\n",
    "dict_per_sex = dictmake(insurance_dict_list, \"sex\")\n",
    "print(dict_average_per_key(dict_per_sex, \"bmi\"))\n",
    "print(dict_average_per_key(dict_per_region, \"bmi\"))\n",
    "print(dict_average_per_key(dict_per_region, \"children\"))\n",
    "print(dict_average_per_key(dict_per_region, \"age\"))\n",
    "print(dict_count_per_key(dict_per_region, \"smoker\", \"yes\"))\n"
   ]
  },
  {
   "cell_type": "code",
   "execution_count": null,
   "id": "2071c486",
   "metadata": {},
   "outputs": [],
   "source": []
  },
  {
   "cell_type": "code",
   "execution_count": null,
   "id": "a8d9e82c",
   "metadata": {},
   "outputs": [],
   "source": []
  },
  {
   "cell_type": "code",
   "execution_count": null,
   "id": "dcf015bd",
   "metadata": {},
   "outputs": [],
   "source": []
  }
 ],
 "metadata": {
  "kernelspec": {
   "display_name": "Python 3 (ipykernel)",
   "language": "python",
   "name": "python3"
  },
  "language_info": {
   "codemirror_mode": {
    "name": "ipython",
    "version": 3
   },
   "file_extension": ".py",
   "mimetype": "text/x-python",
   "name": "python",
   "nbconvert_exporter": "python",
   "pygments_lexer": "ipython3",
   "version": "3.9.5"
  }
 },
 "nbformat": 4,
 "nbformat_minor": 5
}

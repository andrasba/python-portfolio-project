{
 "cells": [
  {
   "cell_type": "markdown",
   "id": "11683ba8",
   "metadata": {},
   "source": [
    "Goals: \n",
    "- average age, \n",
    "- average age /region, \n",
    "- smoker% /region, \n",
    "- smoker%/sex, \n",
    "- bmi-children (0, 1, 2, 3+) correlation (average bmi / children number) for all; for male; for female\n",
    "\n",
    "Csv format: \n",
    "age,sex,bmi,children,smoker,region,charges\n",
    "19,female,27.9,0,yes,southwest,16884.924\n",
    "\n",
    "Processed data format: \n",
    "insurance_dict_list = [{\"age\": 19, \"sex\": \"female\", \"bmi\": 27.9, \"children\": 0, \"smoker\": \"yes\", \"region\": \"southwest\", \"charges\": 16884.924}, {...}]\n"
   ]
  },
  {
   "cell_type": "markdown",
   "id": "f7443508",
   "metadata": {},
   "source": [
    "Only functions for now. Next time I will use class. \n",
    "\n",
    "I have defined a few universal functions, tried to avoid special code bound to the keys: \n",
    "- filtered_list(): makes the list of the key values with unique values \n",
    "- listmake(): from a dict make a list of the values of the selected key. \n",
    "- dictmake(): returns a new dict object, where the key can be specified as parameter. The csv.DictReader object from the insurance.csv file can be converted into a {'southwest': [{'age': '19', 'sex': 'female', 'bmi': '27.9', 'children': '0', 'smoker': 'yes', 'region': 'southwest', 'charges': '16884.924'}, {'age': '23', 'sex': 'male', 'bmi': '34.4', 'children': '0', 'smoker': 'no', 'region': 'southwest', 'charges': '1826.843'}, ...], when the parameter is \"region\". Any key can be passed. Useful for the subsequent data processing. \n",
    "- dictmake_narrow(): same as dictmake(), but the returned dictionary does not contain all of the original keys, only which are passed for the function as argument. Not ready yet, just an idea, for future use. \n",
    "- dict_average_per_key(): calculates the average of the given key's values in the given dictionary. The results are returned in a 2D list [[keyvalue1, average1], [keyvalue2, average2], ...] Applicable only for numeric values. Does not check is the given key values are numeric or string. \n",
    "- dict_count_per_key(): counts each of the given key's values in the given dictionary. The results are returned in a 2D list [[keyvalue1, average1], [keyvalue2, average2], ...] Does not check is the given key values are numeric or string.\n",
    "\n",
    "These functions provide useful tools for the data analysis. \n",
    "\n",
    "The programming part was in my focus. Since the code is almost completed, and is ready to be the base for further analysis, I stopped at this point. The analysis part is not so fancy. \n",
    "\n",
    "I am looking forward to learning the rest of the data science material.  \n"
   ]
  },
  {
   "cell_type": "code",
   "execution_count": 68,
   "id": "22a94b67",
   "metadata": {},
   "outputs": [],
   "source": [
    "\n",
    "import csv\n",
    "\n",
    "# makes value list of the specified header (key), from the list of dictionary rows \n",
    "def listmake(work_dict, header_item): \n",
    "    d_list = []\n",
    "    for row in work_dict: \n",
    "        d_list.append(row[header_item])\n",
    "    return d_list\n",
    "\n",
    "# filtered list of key values - makes list of unique values\n",
    "# e.g.: filtered_list(insurance_dict_list, \"region\")\n",
    "def filtered_list(work_dict, key): \n",
    "    key_values_filtered = []\n",
    "    for drow in work_dict: \n",
    "        if drow[key] not in key_values_filtered: \n",
    "            key_values_filtered.append(drow[key])\n",
    "    return key_values_filtered\n",
    "            \n",
    "# makes a dict according to the given key\n",
    "# e.g.: dictmake(insurance_dict_list, \"region\")\n",
    "def dictmake(work_dict, dheader_item): \n",
    "    return_dict = {}\n",
    "    \n",
    "    # prepare keys - make list of unique values:\n",
    "    dheader_item_values_filtered = filtered_list(work_dict, dheader_item)\n",
    "    print(dheader_item_values_filtered)\n",
    "\n",
    "    # fill up return_dict with values:         \n",
    "    for item_value in dheader_item_values_filtered: \n",
    "        for row in work_dict: \n",
    "            if row[dheader_item] == item_value: \n",
    "                if item_value in return_dict: \n",
    "                    return_dict[item_value].append(row)\n",
    "                else: \n",
    "                    return_dict.update({item_value: [row]})\n",
    "    return return_dict    \n",
    "\n",
    "# e.g.: dictmake(insurance_dict_list, \"region\", [\"age\", \"sex\"])\n",
    "# makes a narrow dictionary for the given key (contains only the given parameters, passed in \"dheaders\" list)\n",
    "def dictmake_narrow(work_dict, dheader_item, dheaders): \n",
    "    return_dict = {}\n",
    "    return return_dict\n",
    "\n",
    "# calculates the average of \"per_key\" in the given dictionary / \n",
    "def dict_average_per_key(dict_per, per_key): \n",
    "    result_list = []\n",
    "    for main_key in dict_per.keys(): \n",
    "        total = 0.0 \n",
    "        num = 0\n",
    "        for row in dict_per[main_key]: \n",
    "            total += float(row[per_key])\n",
    "            num += 1 \n",
    "        average = total / num \n",
    "        result_list.append([main_key, average])\n",
    "    return result_list\n",
    "\n",
    "def dict_count_per_key(dict_per, per_key, per_key_value): \n",
    "    result_list = []\n",
    "    for main_key in dict_per.keys(): \n",
    "        num = 0\n",
    "        for row in dict_per[main_key]: \n",
    "            if row[per_key] == per_key_value: \n",
    "                num += 1 \n",
    "        result_list.append([main_key, num])\n",
    "    return result_list\n"
   ]
  },
  {
   "cell_type": "markdown",
   "id": "d58fc476",
   "metadata": {},
   "source": [
    "The main code, opening and reading the .csv file. The \"insurance_dict_list\" will be the base for the functions. "
   ]
  },
  {
   "cell_type": "code",
   "execution_count": null,
   "id": "411a06ba",
   "metadata": {},
   "outputs": [],
   "source": [
    "\n",
    "with open(\"insurance.csv\") as insurance_csv: \n",
    "    # csv columns -> lists \n",
    "    # variable scope? \n",
    "    insurance_dict_list = list(csv.DictReader(insurance_csv))\n",
    "    \n",
    "# ages_list = listmake(insurance_dict_list, \"age\") \n"
   ]
  },
  {
   "cell_type": "markdown",
   "id": "ba1b70e0",
   "metadata": {},
   "source": [
    "Dictionary organized by \"region\". The regional differences in BMI, children, age, no. of smokers, etc. can be calculated. "
   ]
  },
  {
   "cell_type": "code",
   "execution_count": null,
   "id": "c4e0b137",
   "metadata": {},
   "outputs": [],
   "source": [
    "dict_per_region = dictmake(insurance_dict_list, \"region\")      \n",
    "# print(dict_per_region)    \n",
    "print(dict_average_per_key(dict_per_region, \"bmi\"))\n",
    "print(dict_average_per_key(dict_per_region, \"children\"))\n",
    "print(dict_average_per_key(dict_per_region, \"age\"))\n",
    "print(dict_count_per_key(dict_per_region, \"smoker\", \"yes\"))"
   ]
  },
  {
   "cell_type": "markdown",
   "id": "69277c35",
   "metadata": {},
   "source": [
    "Dictionary organized by number of \"children\". The regional differences in BMI, children, age, no. of smokers, etc. can be calculated. \n",
    "Other sortings are possible for the other keys. "
   ]
  },
  {
   "cell_type": "code",
   "execution_count": 63,
   "id": "fecda58a",
   "metadata": {},
   "outputs": [
    {
     "name": "stdout",
     "output_type": "stream",
     "text": [
      "['0', '1', '3', '2', '5', '4']\n",
      "[['0', 30.550296167247392], ['1', 30.623148148148143], ['3', 30.684331210191075], ['2', 30.97810416666667], ['5', 29.605000000000004], ['4', 31.391200000000005]]\n",
      "['female', 'male']\n",
      "[['female', 30.377749244713023], ['male', 30.943128698224832]]\n",
      "[['southwest', 30.59661538461538], ['southeast', 33.35598901098903], ['northwest', 29.199784615384626], ['northeast', 29.17350308641976]]\n",
      "[['southwest', 1.1415384615384616], ['southeast', 1.0494505494505495], ['northwest', 1.1476923076923078], ['northeast', 1.0462962962962963]]\n",
      "[['southwest', 39.45538461538462], ['southeast', 38.93956043956044], ['northwest', 39.19692307692308], ['northeast', 39.26851851851852]]\n",
      "[['southwest', 58], ['southeast', 91], ['northwest', 58], ['northeast', 67]]\n"
     ]
    }
   ],
   "source": [
    "dict_per_children = dictmake(insurance_dict_list, \"children\")\n",
    "# print(dict_per_children)\n",
    "print(dict_average_per_key(dict_per_children, \"bmi\"))\n",
    "dict_per_sex = dictmake(insurance_dict_list, \"sex\")\n",
    "# print(dict_average_per_key(dict_per_sex, \"bmi\"))\n"
   ]
  },
  {
   "cell_type": "markdown",
   "id": "2a94c827",
   "metadata": {},
   "source": []
  }
 ],
 "metadata": {
  "kernelspec": {
   "display_name": "Python 3 (ipykernel)",
   "language": "python",
   "name": "python3"
  },
  "language_info": {
   "codemirror_mode": {
    "name": "ipython",
    "version": 3
   },
   "file_extension": ".py",
   "mimetype": "text/x-python",
   "name": "python",
   "nbconvert_exporter": "python",
   "pygments_lexer": "ipython3",
   "version": "3.9.5"
  }
 },
 "nbformat": 4,
 "nbformat_minor": 5
}
